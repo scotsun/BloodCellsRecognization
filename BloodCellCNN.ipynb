{
 "cells": [
  {
   "cell_type": "code",
   "execution_count": 0,
   "metadata": {
    "colab": {
     "autoexec": {
      "startup": false,
      "wait_interval": 0
     }
    },
    "colab_type": "code",
    "id": "a7ZBfOR6iGvn"
   },
   "outputs": [],
   "source": [
    "!mkdir ./kaggle"
   ]
  },
  {
   "cell_type": "code",
   "execution_count": 3,
   "metadata": {
    "colab": {
     "autoexec": {
      "startup": false,
      "wait_interval": 0
     },
     "base_uri": "https://localhost:8080/",
     "height": 89,
     "resources": {
      "http://localhost:8080/nbextensions/google.colab/files.js": {
       "data": "Ly8gQ29weXJpZ2h0IDIwMTcgR29vZ2xlIExMQwovLwovLyBMaWNlbnNlZCB1bmRlciB0aGUgQXBhY2hlIExpY2Vuc2UsIFZlcnNpb24gMi4wICh0aGUgIkxpY2Vuc2UiKTsKLy8geW91IG1heSBub3QgdXNlIHRoaXMgZmlsZSBleGNlcHQgaW4gY29tcGxpYW5jZSB3aXRoIHRoZSBMaWNlbnNlLgovLyBZb3UgbWF5IG9idGFpbiBhIGNvcHkgb2YgdGhlIExpY2Vuc2UgYXQKLy8KLy8gICAgICBodHRwOi8vd3d3LmFwYWNoZS5vcmcvbGljZW5zZXMvTElDRU5TRS0yLjAKLy8KLy8gVW5sZXNzIHJlcXVpcmVkIGJ5IGFwcGxpY2FibGUgbGF3IG9yIGFncmVlZCB0byBpbiB3cml0aW5nLCBzb2Z0d2FyZQovLyBkaXN0cmlidXRlZCB1bmRlciB0aGUgTGljZW5zZSBpcyBkaXN0cmlidXRlZCBvbiBhbiAiQVMgSVMiIEJBU0lTLAovLyBXSVRIT1VUIFdBUlJBTlRJRVMgT1IgQ09ORElUSU9OUyBPRiBBTlkgS0lORCwgZWl0aGVyIGV4cHJlc3Mgb3IgaW1wbGllZC4KLy8gU2VlIHRoZSBMaWNlbnNlIGZvciB0aGUgc3BlY2lmaWMgbGFuZ3VhZ2UgZ292ZXJuaW5nIHBlcm1pc3Npb25zIGFuZAovLyBsaW1pdGF0aW9ucyB1bmRlciB0aGUgTGljZW5zZS4KCi8qKgogKiBAZmlsZW92ZXJ2aWV3IEhlbHBlcnMgZm9yIGdvb2dsZS5jb2xhYiBQeXRob24gbW9kdWxlLgogKi8KKGZ1bmN0aW9uKHNjb3BlKSB7CmZ1bmN0aW9uIHNwYW4odGV4dCwgc3R5bGVBdHRyaWJ1dGVzID0ge30pIHsKICBjb25zdCBlbGVtZW50ID0gZG9jdW1lbnQuY3JlYXRlRWxlbWVudCgnc3BhbicpOwogIGVsZW1lbnQudGV4dENvbnRlbnQgPSB0ZXh0OwogIGZvciAoY29uc3Qga2V5IG9mIE9iamVjdC5rZXlzKHN0eWxlQXR0cmlidXRlcykpIHsKICAgIGVsZW1lbnQuc3R5bGVba2V5XSA9IHN0eWxlQXR0cmlidXRlc1trZXldOwogIH0KICByZXR1cm4gZWxlbWVudDsKfQoKLy8gTWF4IG51bWJlciBvZiBieXRlcyB3aGljaCB3aWxsIGJlIHVwbG9hZGVkIGF0IGEgdGltZS4KY29uc3QgTUFYX1BBWUxPQURfU0laRSA9IDEwMCAqIDEwMjQ7Ci8vIE1heCBhbW91bnQgb2YgdGltZSB0byBibG9jayB3YWl0aW5nIGZvciB0aGUgdXNlci4KY29uc3QgRklMRV9DSEFOR0VfVElNRU9VVF9NUyA9IDMwICogMTAwMDsKCmZ1bmN0aW9uIF91cGxvYWRGaWxlcyhpbnB1dElkLCBvdXRwdXRJZCkgewogIGNvbnN0IHN0ZXBzID0gdXBsb2FkRmlsZXNTdGVwKGlucHV0SWQsIG91dHB1dElkKTsKICBjb25zdCBvdXRwdXRFbGVtZW50ID0gZG9jdW1lbnQuZ2V0RWxlbWVudEJ5SWQob3V0cHV0SWQpOwogIC8vIENhY2hlIHN0ZXBzIG9uIHRoZSBvdXRwdXRFbGVtZW50IHRvIG1ha2UgaXQgYXZhaWxhYmxlIGZvciB0aGUgbmV4dCBjYWxsCiAgLy8gdG8gdXBsb2FkRmlsZXNDb250aW51ZSBmcm9tIFB5dGhvbi4KICBvdXRwdXRFbGVtZW50LnN0ZXBzID0gc3RlcHM7CgogIHJldHVybiBfdXBsb2FkRmlsZXNDb250aW51ZShvdXRwdXRJZCk7Cn0KCi8vIFRoaXMgaXMgcm91Z2hseSBhbiBhc3luYyBnZW5lcmF0b3IgKG5vdCBzdXBwb3J0ZWQgaW4gdGhlIGJyb3dzZXIgeWV0KSwKLy8gd2hlcmUgdGhlcmUgYXJlIG11bHRpcGxlIGFzeW5jaHJvbm91cyBzdGVwcyBhbmQgdGhlIFB5dGhvbiBzaWRlIGlzIGdvaW5nCi8vIHRvIHBvbGwgZm9yIGNvbXBsZXRpb24gb2YgZWFjaCBzdGVwLgovLyBUaGlzIHVzZXMgYSBQcm9taXNlIHRvIGJsb2NrIHRoZSBweXRob24gc2lkZSBvbiBjb21wbGV0aW9uIG9mIGVhY2ggc3RlcCwKLy8gdGhlbiBwYXNzZXMgdGhlIHJlc3VsdCBvZiB0aGUgcHJldmlvdXMgc3RlcCBhcyB0aGUgaW5wdXQgdG8gdGhlIG5leHQgc3RlcC4KZnVuY3Rpb24gX3VwbG9hZEZpbGVzQ29udGludWUob3V0cHV0SWQpIHsKICBjb25zdCBvdXRwdXRFbGVtZW50ID0gZG9jdW1lbnQuZ2V0RWxlbWVudEJ5SWQob3V0cHV0SWQpOwogIGNvbnN0IHN0ZXBzID0gb3V0cHV0RWxlbWVudC5zdGVwczsKCiAgY29uc3QgbmV4dCA9IHN0ZXBzLm5leHQob3V0cHV0RWxlbWVudC5sYXN0UHJvbWlzZVZhbHVlKTsKICByZXR1cm4gUHJvbWlzZS5yZXNvbHZlKG5leHQudmFsdWUucHJvbWlzZSkudGhlbigodmFsdWUpID0+IHsKICAgIC8vIENhY2hlIHRoZSBsYXN0IHByb21pc2UgdmFsdWUgdG8gbWFrZSBpdCBhdmFpbGFibGUgdG8gdGhlIG5leHQKICAgIC8vIHN0ZXAgb2YgdGhlIGdlbmVyYXRvci4KICAgIG91dHB1dEVsZW1lbnQubGFzdFByb21pc2VWYWx1ZSA9IHZhbHVlOwogICAgcmV0dXJuIG5leHQudmFsdWUucmVzcG9uc2U7CiAgfSk7Cn0KCi8qKgogKiBHZW5lcmF0b3IgZnVuY3Rpb24gd2hpY2ggaXMgY2FsbGVkIGJldHdlZW4gZWFjaCBhc3luYyBzdGVwIG9mIHRoZSB1cGxvYWQKICogcHJvY2Vzcy4KICogQHBhcmFtIHtzdHJpbmd9IGlucHV0SWQgRWxlbWVudCBJRCBvZiB0aGUgaW5wdXQgZmlsZSBwaWNrZXIgZWxlbWVudC4KICogQHBhcmFtIHtzdHJpbmd9IG91dHB1dElkIEVsZW1lbnQgSUQgb2YgdGhlIG91dHB1dCBkaXNwbGF5LgogKiBAcmV0dXJuIHshSXRlcmFibGU8IU9iamVjdD59IEl0ZXJhYmxlIG9mIG5leHQgc3RlcHMuCiAqLwpmdW5jdGlvbiogdXBsb2FkRmlsZXNTdGVwKGlucHV0SWQsIG91dHB1dElkKSB7CiAgY29uc3QgaW5wdXRFbGVtZW50ID0gZG9jdW1lbnQuZ2V0RWxlbWVudEJ5SWQoaW5wdXRJZCk7CiAgaW5wdXRFbGVtZW50LmRpc2FibGVkID0gZmFsc2U7CgogIGNvbnN0IG91dHB1dEVsZW1lbnQgPSBkb2N1bWVudC5nZXRFbGVtZW50QnlJZChvdXRwdXRJZCk7CiAgb3V0cHV0RWxlbWVudC5pbm5lckhUTUwgPSAnJzsKCiAgY29uc3QgcGlja2VkUHJvbWlzZSA9IG5ldyBQcm9taXNlKChyZXNvbHZlKSA9PiB7CiAgICBpbnB1dEVsZW1lbnQuYWRkRXZlbnRMaXN0ZW5lcignY2hhbmdlJywgKGUpID0+IHsKICAgICAgcmVzb2x2ZShlLnRhcmdldC5maWxlcyk7CiAgICB9KTsKICB9KTsKCiAgY29uc3QgY2FuY2VsID0gZG9jdW1lbnQuY3JlYXRlRWxlbWVudCgnYnV0dG9uJyk7CiAgaW5wdXRFbGVtZW50LnBhcmVudEVsZW1lbnQuYXBwZW5kQ2hpbGQoY2FuY2VsKTsKICBjYW5jZWwudGV4dENvbnRlbnQgPSAnQ2FuY2VsIHVwbG9hZCc7CiAgY29uc3QgY2FuY2VsUHJvbWlzZSA9IG5ldyBQcm9taXNlKChyZXNvbHZlKSA9PiB7CiAgICBjYW5jZWwub25jbGljayA9ICgpID0+IHsKICAgICAgcmVzb2x2ZShudWxsKTsKICAgIH07CiAgfSk7CgogIC8vIENhbmNlbCB1cGxvYWQgaWYgdXNlciBoYXNuJ3QgcGlja2VkIGFueXRoaW5nIGluIHRpbWVvdXQuCiAgY29uc3QgdGltZW91dFByb21pc2UgPSBuZXcgUHJvbWlzZSgocmVzb2x2ZSkgPT4gewogICAgc2V0VGltZW91dCgoKSA9PiB7CiAgICAgIHJlc29sdmUobnVsbCk7CiAgICB9LCBGSUxFX0NIQU5HRV9USU1FT1VUX01TKTsKICB9KTsKCiAgLy8gV2FpdCBmb3IgdGhlIHVzZXIgdG8gcGljayB0aGUgZmlsZXMuCiAgY29uc3QgZmlsZXMgPSB5aWVsZCB7CiAgICBwcm9taXNlOiBQcm9taXNlLnJhY2UoW3BpY2tlZFByb21pc2UsIHRpbWVvdXRQcm9taXNlLCBjYW5jZWxQcm9taXNlXSksCiAgICByZXNwb25zZTogewogICAgICBhY3Rpb246ICdzdGFydGluZycsCiAgICB9CiAgfTsKCiAgaWYgKCFmaWxlcykgewogICAgcmV0dXJuIHsKICAgICAgcmVzcG9uc2U6IHsKICAgICAgICBhY3Rpb246ICdjb21wbGV0ZScsCiAgICAgIH0KICAgIH07CiAgfQoKICBjYW5jZWwucmVtb3ZlKCk7CgogIC8vIERpc2FibGUgdGhlIGlucHV0IGVsZW1lbnQgc2luY2UgZnVydGhlciBwaWNrcyBhcmUgbm90IGFsbG93ZWQuCiAgaW5wdXRFbGVtZW50LmRpc2FibGVkID0gdHJ1ZTsKCiAgZm9yIChjb25zdCBmaWxlIG9mIGZpbGVzKSB7CiAgICBjb25zdCBsaSA9IGRvY3VtZW50LmNyZWF0ZUVsZW1lbnQoJ2xpJyk7CiAgICBsaS5hcHBlbmQoc3BhbihmaWxlLm5hbWUsIHtmb250V2VpZ2h0OiAnYm9sZCd9KSk7CiAgICBsaS5hcHBlbmQoc3BhbigKICAgICAgICBgKCR7ZmlsZS50eXBlIHx8ICduL2EnfSkgLSAke2ZpbGUuc2l6ZX0gYnl0ZXMsIGAgKwogICAgICAgIGBsYXN0IG1vZGlmaWVkOiAkewogICAgICAgICAgICBmaWxlLmxhc3RNb2RpZmllZERhdGUgPyBmaWxlLmxhc3RNb2RpZmllZERhdGUudG9Mb2NhbGVEYXRlU3RyaW5nKCkgOgogICAgICAgICAgICAgICAgICAgICAgICAgICAgICAgICAgICAnbi9hJ30gLSBgKSk7CiAgICBjb25zdCBwZXJjZW50ID0gc3BhbignMCUgZG9uZScpOwogICAgbGkuYXBwZW5kQ2hpbGQocGVyY2VudCk7CgogICAgb3V0cHV0RWxlbWVudC5hcHBlbmRDaGlsZChsaSk7CgogICAgY29uc3QgZmlsZURhdGFQcm9taXNlID0gbmV3IFByb21pc2UoKHJlc29sdmUpID0+IHsKICAgICAgY29uc3QgcmVhZGVyID0gbmV3IEZpbGVSZWFkZXIoKTsKICAgICAgcmVhZGVyLm9ubG9hZCA9IChlKSA9PiB7CiAgICAgICAgcmVzb2x2ZShlLnRhcmdldC5yZXN1bHQpOwogICAgICB9OwogICAgICByZWFkZXIucmVhZEFzQXJyYXlCdWZmZXIoZmlsZSk7CiAgICB9KTsKICAgIC8vIFdhaXQgZm9yIHRoZSBkYXRhIHRvIGJlIHJlYWR5LgogICAgbGV0IGZpbGVEYXRhID0geWllbGQgewogICAgICBwcm9taXNlOiBmaWxlRGF0YVByb21pc2UsCiAgICAgIHJlc3BvbnNlOiB7CiAgICAgICAgYWN0aW9uOiAnY29udGludWUnLAogICAgICB9CiAgICB9OwoKICAgIC8vIFVzZSBhIGNodW5rZWQgc2VuZGluZyB0byBhdm9pZCBtZXNzYWdlIHNpemUgbGltaXRzLiBTZWUgYi82MjExNTY2MC4KICAgIGxldCBwb3NpdGlvbiA9IDA7CiAgICB3aGlsZSAocG9zaXRpb24gPCBmaWxlRGF0YS5ieXRlTGVuZ3RoKSB7CiAgICAgIGNvbnN0IGxlbmd0aCA9IE1hdGgubWluKGZpbGVEYXRhLmJ5dGVMZW5ndGggLSBwb3NpdGlvbiwgTUFYX1BBWUxPQURfU0laRSk7CiAgICAgIGNvbnN0IGNodW5rID0gbmV3IFVpbnQ4QXJyYXkoZmlsZURhdGEsIHBvc2l0aW9uLCBsZW5ndGgpOwogICAgICBwb3NpdGlvbiArPSBsZW5ndGg7CgogICAgICBjb25zdCBiYXNlNjQgPSBidG9hKFN0cmluZy5mcm9tQ2hhckNvZGUuYXBwbHkobnVsbCwgY2h1bmspKTsKICAgICAgeWllbGQgewogICAgICAgIHJlc3BvbnNlOiB7CiAgICAgICAgICBhY3Rpb246ICdhcHBlbmQnLAogICAgICAgICAgZmlsZTogZmlsZS5uYW1lLAogICAgICAgICAgZGF0YTogYmFzZTY0LAogICAgICAgIH0sCiAgICAgIH07CiAgICAgIHBlcmNlbnQudGV4dENvbnRlbnQgPQogICAgICAgICAgYCR7TWF0aC5yb3VuZCgocG9zaXRpb24gLyBmaWxlRGF0YS5ieXRlTGVuZ3RoKSAqIDEwMCl9JSBkb25lYDsKICAgIH0KICB9CgogIC8vIEFsbCBkb25lLgogIHlpZWxkIHsKICAgIHJlc3BvbnNlOiB7CiAgICAgIGFjdGlvbjogJ2NvbXBsZXRlJywKICAgIH0KICB9Owp9CgpzY29wZS5nb29nbGUgPSBzY29wZS5nb29nbGUgfHwge307CnNjb3BlLmdvb2dsZS5jb2xhYiA9IHNjb3BlLmdvb2dsZS5jb2xhYiB8fCB7fTsKc2NvcGUuZ29vZ2xlLmNvbGFiLl9maWxlcyA9IHsKICBfdXBsb2FkRmlsZXMsCiAgX3VwbG9hZEZpbGVzQ29udGludWUsCn07Cn0pKHNlbGYpOwo=",
       "headers": [
        [
         "content-type",
         "application/javascript"
        ]
       ],
       "ok": true,
       "status": 200,
       "status_text": ""
      }
     }
    },
    "colab_type": "code",
    "executionInfo": {
     "elapsed": 11203,
     "status": "ok",
     "timestamp": 1528474334815,
     "user": {
      "displayName": "Narasimha Prasanna HN",
      "photoUrl": "https://lh3.googleusercontent.com/a/default-user=s128",
      "userId": "112237162826784389771"
     },
     "user_tz": -330
    },
    "id": "65miVY09KWu3",
    "outputId": "8f63ac4b-b957-4dda-9e7d-bab33fb7afbb"
   },
   "outputs": [
    {
     "data": {
      "text/html": [
       "\n",
       "     <input type=\"file\" id=\"files-e7d1d94c-1c8d-4023-b9e7-b500e9c2e963\" name=\"files[]\" multiple disabled />\n",
       "     <output id=\"result-e7d1d94c-1c8d-4023-b9e7-b500e9c2e963\">\n",
       "      Upload widget is only available when the cell has been executed in the\n",
       "      current browser session. Please rerun this cell to enable.\n",
       "      </output>\n",
       "      <script src=\"/nbextensions/google.colab/files.js\"></script> "
      ],
      "text/plain": [
       "<IPython.core.display.HTML object>"
      ]
     },
     "metadata": {
      "tags": []
     },
     "output_type": "display_data"
    },
    {
     "name": "stdout",
     "output_type": "stream",
     "text": [
      "Saving kaggle.json to kaggle.json\n"
     ]
    },
    {
     "data": {
      "text/plain": [
       "{'kaggle.json': b'{\"username\":\"narasimha1997\",\"key\":\"85681d3d3bad7b31d1397574f7f3aa33\"}'}"
      ]
     },
     "execution_count": 3,
     "metadata": {
      "tags": []
     },
     "output_type": "execute_result"
    }
   ],
   "source": [
    "from google.colab import files\n",
    "\n",
    "files.upload()"
   ]
  },
  {
   "cell_type": "code",
   "execution_count": 13,
   "metadata": {
    "colab": {
     "autoexec": {
      "startup": false,
      "wait_interval": 0
     },
     "base_uri": "https://localhost:8080/",
     "height": 85
    },
    "colab_type": "code",
    "executionInfo": {
     "elapsed": 4608,
     "status": "ok",
     "timestamp": 1528474575826,
     "user": {
      "displayName": "Narasimha Prasanna HN",
      "photoUrl": "https://lh3.googleusercontent.com/a/default-user=s128",
      "userId": "112237162826784389771"
     },
     "user_tz": -330
    },
    "id": "OxL_S20GK-SL",
    "outputId": "d1cadb3f-175e-47df-f30e-d93de63185eb"
   },
   "outputs": [
    {
     "name": "stdout",
     "output_type": "stream",
     "text": [
      "Warning: Your Kaggle API key is readable by other users on this system! To fix this, you can run 'chmod 600 /content/.kaggle/kaggle.json'\n",
      "Downloading blood-cells.zip to /content/.kaggle/datasets/paultimothymooney/blood-cells\n",
      " 89%|██████████████████████████████████▌    | 94.0M/106M [00:00<00:00, 48.3MB/s]\n",
      "100%|█████████████████████████████████████████| 106M/106M [00:00<00:00, 176MB/s]\n"
     ]
    }
   ],
   "source": [
    "!kaggle datasets download -d paultimothymooney/blood-cells "
   ]
  },
  {
   "cell_type": "code",
   "execution_count": 21,
   "metadata": {
    "colab": {
     "autoexec": {
      "startup": false,
      "wait_interval": 0
     },
     "base_uri": "https://localhost:8080/",
     "height": 34
    },
    "colab_type": "code",
    "executionInfo": {
     "elapsed": 1883,
     "status": "ok",
     "timestamp": 1528474785897,
     "user": {
      "displayName": "Narasimha Prasanna HN",
      "photoUrl": "https://lh3.googleusercontent.com/a/default-user=s128",
      "userId": "112237162826784389771"
     },
     "user_tz": -330
    },
    "id": "pjdeUESUMeBc",
    "outputId": "d60a57ae-b1e5-4bd9-c3b1-bb27a0310c75"
   },
   "outputs": [
    {
     "name": "stdout",
     "output_type": "stream",
     "text": [
      "TEST  TEST_SIMPLE  TRAIN\r\n"
     ]
    }
   ],
   "source": [
    "!ls dataset2-master/images"
   ]
  },
  {
   "cell_type": "code",
   "execution_count": 40,
   "metadata": {
    "colab": {
     "autoexec": {
      "startup": false,
      "wait_interval": 0
     },
     "base_uri": "https://localhost:8080/",
     "height": 1074
    },
    "colab_type": "code",
    "executionInfo": {
     "elapsed": 1178322,
     "status": "ok",
     "timestamp": 1528479256658,
     "user": {
      "displayName": "Narasimha Prasanna HN",
      "photoUrl": "https://lh3.googleusercontent.com/a/default-user=s128",
      "userId": "112237162826784389771"
     },
     "user_tz": -330
    },
    "id": "jO4ZnOP9MnHF",
    "outputId": "b865c282-aa2c-4e01-ff78-ea3f4ca888f0"
   },
   "outputs": [
    {
     "name": "stdout",
     "output_type": "stream",
     "text": [
      "Found 9957 images belonging to 4 classes.\n",
      "Epoch 1/30\n",
      "312/312 [==============================] - 39s 126ms/step - loss: 1.3999 - acc: 0.2444\n",
      "Epoch 2/30\n",
      "253/312 [=======================>......] - ETA: 7s - loss: 1.3742 - acc: 0.2814312/312 [==============================] - 39s 125ms/step - loss: 1.3653 - acc: 0.2930\n",
      "Epoch 3/30\n",
      "312/312 [==============================] - 39s 125ms/step - loss: 1.2806 - acc: 0.3882\n",
      "Epoch 4/30\n",
      "143/312 [============>.................] - ETA: 21s - loss: 1.1770 - acc: 0.4467312/312 [==============================] - 39s 124ms/step - loss: 1.1187 - acc: 0.4846\n",
      "Epoch 5/30\n",
      "312/312 [==============================] - 39s 125ms/step - loss: 0.9508 - acc: 0.5798\n",
      "Epoch 6/30\n",
      "113/312 [=========>....................] - ETA: 24s - loss: 0.7852 - acc: 0.6491312/312 [==============================] - 39s 125ms/step - loss: 0.7605 - acc: 0.6595\n",
      "Epoch 7/30\n",
      "312/312 [==============================] - 39s 125ms/step - loss: 0.6415 - acc: 0.7262\n",
      "Epoch 8/30\n",
      "103/312 [========>.....................] - ETA: 26s - loss: 0.5575 - acc: 0.7458312/312 [==============================] - 39s 126ms/step - loss: 0.5673 - acc: 0.7539\n",
      "Epoch 9/30\n",
      "312/312 [==============================] - 39s 125ms/step - loss: 0.4956 - acc: 0.7769\n",
      "Epoch 10/30\n",
      "100/312 [========>.....................] - ETA: 26s - loss: 0.5288 - acc: 0.7857312/312 [==============================] - 39s 126ms/step - loss: 0.4774 - acc: 0.7973\n",
      "Epoch 11/30\n",
      "312/312 [==============================] - 39s 126ms/step - loss: 0.4904 - acc: 0.8090\n",
      "Epoch 12/30\n",
      " 96/312 [========>.....................] - ETA: 27s - loss: 0.3974 - acc: 0.8350312/312 [==============================] - 39s 125ms/step - loss: 0.4029 - acc: 0.8360\n",
      "Epoch 13/30\n",
      "312/312 [==============================] - 39s 126ms/step - loss: 0.3460 - acc: 0.8527\n",
      "Epoch 14/30\n",
      " 96/312 [========>.....................] - ETA: 27s - loss: 0.3622 - acc: 0.8512312/312 [==============================] - 39s 126ms/step - loss: 0.3539 - acc: 0.8505\n",
      "Epoch 15/30\n",
      "312/312 [==============================] - 39s 126ms/step - loss: 0.3208 - acc: 0.8678\n",
      "Epoch 16/30\n",
      " 97/312 [========>.....................] - ETA: 27s - loss: 0.3283 - acc: 0.8671312/312 [==============================] - 40s 127ms/step - loss: 0.3061 - acc: 0.8745\n",
      "Epoch 17/30\n",
      "312/312 [==============================] - 39s 126ms/step - loss: 0.3302 - acc: 0.8657\n",
      "Epoch 18/30\n",
      " 96/312 [========>.....................] - ETA: 27s - loss: 0.2893 - acc: 0.8818312/312 [==============================] - 40s 127ms/step - loss: 0.3077 - acc: 0.8826\n",
      "Epoch 19/30\n",
      "312/312 [==============================] - 40s 127ms/step - loss: 0.2995 - acc: 0.8845\n",
      "Epoch 20/30\n",
      " 96/312 [========>.....................] - ETA: 27s - loss: 0.2470 - acc: 0.9017312/312 [==============================] - 40s 127ms/step - loss: 0.2644 - acc: 0.8928\n",
      "Epoch 21/30\n",
      "312/312 [==============================] - 39s 127ms/step - loss: 0.3026 - acc: 0.8848\n",
      "Epoch 22/30\n",
      " 97/312 [========>.....................] - ETA: 26s - loss: 0.2639 - acc: 0.9046312/312 [==============================] - 39s 126ms/step - loss: 0.2759 - acc: 0.9002\n",
      "Epoch 23/30\n",
      "312/312 [==============================] - 39s 125ms/step - loss: 0.2570 - acc: 0.9063\n",
      "Epoch 24/30\n",
      " 98/312 [========>.....................] - ETA: 27s - loss: 0.2744 - acc: 0.9050312/312 [==============================] - 39s 126ms/step - loss: 0.2424 - acc: 0.9080\n",
      "Epoch 25/30\n",
      "312/312 [==============================] - 39s 126ms/step - loss: 0.2148 - acc: 0.9176\n",
      "Epoch 26/30\n",
      " 97/312 [========>.....................] - ETA: 27s - loss: 0.2403 - acc: 0.9069312/312 [==============================] - 39s 126ms/step - loss: 0.2069 - acc: 0.9196\n",
      "Epoch 27/30\n",
      "312/312 [==============================] - 39s 125ms/step - loss: 0.2097 - acc: 0.9204\n",
      "Epoch 28/30\n",
      " 97/312 [========>.....................] - ETA: 26s - loss: 0.3500 - acc: 0.9030312/312 [==============================] - 39s 125ms/step - loss: 0.2430 - acc: 0.9182\n",
      "Epoch 29/30\n",
      "312/312 [==============================] - 39s 124ms/step - loss: 0.2175 - acc: 0.9202\n",
      "Epoch 30/30\n",
      " 96/312 [========>.....................] - ETA: 26s - loss: 0.1697 - acc: 0.9281312/312 [==============================] - 39s 125ms/step - loss: 0.1812 - acc: 0.9267\n"
     ]
    }
   ],
   "source": [
    "from keras.models import Sequential\n",
    "from keras.layers import Dense, Conv2D, Dropout, MaxPool2D, Flatten\n",
    "from keras.applications import vgg16\n",
    "from keras.preprocessing import image\n",
    "\n",
    "samples = 9957\n",
    "batch_size = 16\n",
    "\n",
    "#run predictions:\n",
    "generator = image.ImageDataGenerator(\n",
    "        rescale = 1./255,\n",
    "        featurewise_center=False,  # set input mean to 0 over the dataset\n",
    "        samplewise_center=False,  # set each sample mean to 0\n",
    "        featurewise_std_normalization=False,  # divide inputs by std of the dataset\n",
    "        samplewise_std_normalization=False,  # divide each input by its std\n",
    "        zca_whitening=False,  # apply ZCA whitening\n",
    "        rotation_range=10,  # randomly rotate images in the range (degrees, 0 to 180)\n",
    "        width_shift_range=0.1,  # randomly shift images horizontally (fraction of total width)\n",
    "        height_shift_range=0.1,  # randomly shift images vertically (fraction of total height)\n",
    "        horizontal_flip=True,  # randomly flip images\n",
    "        vertical_flip=False)\n",
    "\n",
    "dataset = generator.flow_from_directory(\n",
    "    shuffle = True,\n",
    "    batch_size = 32,\n",
    "    target_size = (80, 80),\n",
    "    directory = 'dataset2-master/images/TRAIN'\n",
    ")\n",
    "\n",
    "def model():\n",
    "    model = Sequential()\n",
    "    model.add(Conv2D(80, (3,3), strides = (1, 1), activation = 'relu', input_shape = (80, 80, 3)))\n",
    "    model.add(Conv2D(64, (3,3), strides = (1, 1), activation = 'relu', input_shape = (80, 80, 3)))\n",
    "    model.add(MaxPool2D(pool_size = (2,2)))\n",
    "    model.add(Conv2D(64, (3,3), strides = (1,1), activation = 'relu'))\n",
    "    model.add(Dropout(0.25))\n",
    "    model.add(Flatten())\n",
    "\n",
    "    model.add(Dense(128, activation = 'relu'))\n",
    "    model.add(Dropout(0.5))\n",
    "    model.add(Dense(4, activation = 'softmax'))\n",
    "\n",
    "    model.compile(loss = 'categorical_crossentropy', optimizer = 'adadelta', metrics = ['accuracy'])\n",
    "    \n",
    "    return model\n",
    "\n",
    "nn = model()\n",
    "nn.fit_generator(dataset, steps_per_epoch = None, epochs = 30, verbose = 1)\n",
    "nn.save('Model.h5')\n"
   ]
  },
  {
   "cell_type": "code",
   "execution_count": 30,
   "metadata": {
    "colab": {
     "autoexec": {
      "startup": false,
      "wait_interval": 0
     },
     "base_uri": "https://localhost:8080/",
     "height": 34
    },
    "colab_type": "code",
    "executionInfo": {
     "elapsed": 1893,
     "status": "ok",
     "timestamp": 1528475402431,
     "user": {
      "displayName": "Narasimha Prasanna HN",
      "photoUrl": "https://lh3.googleusercontent.com/a/default-user=s128",
      "userId": "112237162826784389771"
     },
     "user_tz": -330
    },
    "id": "liiJLdb8N7Bb",
    "outputId": "c7bdf06e-b36e-4db0-9130-ddefea049542"
   },
   "outputs": [
    {
     "name": "stdout",
     "output_type": "stream",
     "text": [
      "622M\tFeatures.npy\r\n"
     ]
    }
   ],
   "source": [
    "!du -h Features.npy"
   ]
  },
  {
   "cell_type": "code",
   "execution_count": 0,
   "metadata": {
    "colab": {
     "autoexec": {
      "startup": false,
      "wait_interval": 0
     }
    },
    "colab_type": "code",
    "id": "uUTkTnDwO-u2"
   },
   "outputs": [],
   "source": [
    "from google.colab import files\n",
    "files.download('Model.h5')"
   ]
  },
  {
   "cell_type": "code",
   "execution_count": 56,
   "metadata": {
    "colab": {
     "autoexec": {
      "startup": false,
      "wait_interval": 0
     },
     "base_uri": "https://localhost:8080/",
     "height": 85
    },
    "colab_type": "code",
    "executionInfo": {
     "elapsed": 59234,
     "status": "ok",
     "timestamp": 1528480946764,
     "user": {
      "displayName": "Narasimha Prasanna HN",
      "photoUrl": "https://lh3.googleusercontent.com/a/default-user=s128",
      "userId": "112237162826784389771"
     },
     "user_tz": -330
    },
    "id": "nzk4aHmMfNQs",
    "outputId": "5fe3fd34-e8fc-4d4f-9233-a50252f6d8f1"
   },
   "outputs": [
    {
     "name": "stdout",
     "output_type": "stream",
     "text": [
      "EOSINOPHIL :::: Result :  Correct prediction %:  95.83500200240287 Wrong prediction : % 4.1649979975971165\n",
      "LYMPHOCYTE :::: Result :  Correct prediction %:  99.79863068868305 Wrong prediction : % 0.20136931131695532\n",
      "MONOCYTE :::: Result :  Correct prediction %:  98.95076674737692 Wrong prediction : % 1.0492332526230832\n",
      "NEUTROPHIL ::: Result :  Correct prediction %:  87.63505402160864 Wrong prediction : % 12.364945978391356\n"
     ]
    }
   ],
   "source": [
    "from keras.models import load_model\n",
    "import numpy\n",
    "import os\n",
    "from PIL import Image\n",
    "\n",
    "model = load_model('Model.h5')\n",
    "\n",
    "#demo code check for EOSINOPHIL\n",
    "\n",
    "correct = 0\n",
    "wrong = 0\n",
    "total = 0\n",
    "\n",
    "for file in os.listdir('dataset2-master/images/TRAIN/EOSINOPHIL'):\n",
    "  image = Image.open('dataset2-master/images/TRAIN/EOSINOPHIL/'+file)\n",
    "  image = image.resize((80, 80))\n",
    "  image = numpy.array(image, dtype = 'float32')\n",
    "  image/=255\n",
    "  image = image.reshape(1, 80, 80, 3)\n",
    "  prediction = model.predict(image)\n",
    "  #print(numpy.argmax(prediction))\n",
    "  if numpy.argmax(prediction) == 0: correct+=1\n",
    "  else: wrong+=1\n",
    "  total+=1\n",
    "\n",
    "print('EOSINOPHIL :::: Result : ', 'Correct prediction %: ', (correct/total)*100, 'Wrong prediction : %', (wrong/total)*100)\n",
    "\n",
    "\n",
    "#demo code check for LYMPHOCYTE\n",
    "\n",
    "correct = 0\n",
    "wrong = 0\n",
    "total = 0\n",
    "\n",
    "for file in os.listdir('dataset2-master/images/TRAIN/LYMPHOCYTE'):\n",
    "  image = Image.open('dataset2-master/images/TRAIN/LYMPHOCYTE/'+file)\n",
    "  image = image.resize((80, 80))\n",
    "  image = numpy.array(image, dtype = 'float32')\n",
    "  image/=255\n",
    "  image = image.reshape(1, 80, 80, 3)\n",
    "  prediction = model.predict(image)\n",
    "  #print(numpy.argmax(prediction))\n",
    "  if numpy.argmax(prediction) == 1: correct+=1\n",
    "  else: wrong+=1\n",
    "  total+=1\n",
    "\n",
    "print('LYMPHOCYTE :::: Result : ', 'Correct prediction %: ', (correct/total)*100, 'Wrong prediction : %', (wrong/total)*100)\n",
    "\n",
    "#demo code check for MONOCYTE\n",
    "\n",
    "correct = 0\n",
    "wrong = 0\n",
    "total = 0\n",
    "\n",
    "for file in os.listdir('dataset2-master/images/TRAIN/MONOCYTE'):\n",
    "  image = Image.open('dataset2-master/images/TRAIN/MONOCYTE/'+file)\n",
    "  image = image.resize((80, 80))\n",
    "  image = numpy.array(image, dtype = 'float32')\n",
    "  image/=255\n",
    "  image = image.reshape(1, 80, 80, 3)\n",
    "  prediction = model.predict(image)\n",
    "  #print(numpy.argmax(prediction))\n",
    "  if numpy.argmax(prediction) == 2: correct+=1\n",
    "  else: wrong+=1\n",
    "  total+=1\n",
    "\n",
    "print('MONOCYTE :::: Result : ', 'Correct prediction %: ', (correct/total)*100, 'Wrong prediction : %', (wrong/total)*100)\n",
    "\n",
    "\n",
    "#demo code check for NEUTROPHIL\n",
    "\n",
    "correct = 0\n",
    "wrong = 0\n",
    "total = 0\n",
    "\n",
    "for file in os.listdir('dataset2-master/images/TRAIN/NEUTROPHIL'):\n",
    "  image = Image.open('dataset2-master/images/TRAIN/NEUTROPHIL/'+file)\n",
    "  image = image.resize((80, 80))\n",
    "  image = numpy.array(image, dtype = 'float32')\n",
    "  image/=255\n",
    "  image = image.reshape(1, 80, 80, 3)\n",
    "  prediction = model.predict(image)\n",
    "  #print(numpy.argmax(prediction))\n",
    "  if numpy.argmax(prediction) == 3: correct+=1\n",
    "  else: wrong+=1\n",
    "  total+=1\n",
    "\n",
    "print('NEUTROPHIL ::: Result : ', 'Correct prediction %: ', (correct/total)*100, 'Wrong prediction : %', (wrong/total)*100)"
   ]
  },
  {
   "cell_type": "code",
   "execution_count": 52,
   "metadata": {
    "colab": {
     "autoexec": {
      "startup": false,
      "wait_interval": 0
     },
     "base_uri": "https://localhost:8080/",
     "height": 34
    },
    "colab_type": "code",
    "executionInfo": {
     "elapsed": 2067,
     "status": "ok",
     "timestamp": 1528480336859,
     "user": {
      "displayName": "Narasimha Prasanna HN",
      "photoUrl": "https://lh3.googleusercontent.com/a/default-user=s128",
      "userId": "112237162826784389771"
     },
     "user_tz": -330
    },
    "id": "XRhzeDm1hQlQ",
    "outputId": "0b15a465-8113-40a3-b634-b481da57d27d"
   },
   "outputs": [
    {
     "name": "stdout",
     "output_type": "stream",
     "text": [
      "EOSINOPHIL  LYMPHOCYTE\tMONOCYTE  NEUTROPHIL\r\n"
     ]
    }
   ],
   "source": [
    "!ls dataset2-master/images/TRAIN"
   ]
  }
 ],
 "metadata": {
  "accelerator": "GPU",
  "colab": {
   "collapsed_sections": [],
   "default_view": {},
   "name": "BloodCell.ipynb",
   "provenance": [],
   "version": "0.3.2",
   "views": {}
  },
  "kernelspec": {
   "display_name": "Python 3",
   "language": "python",
   "name": "python3"
  },
  "language_info": {
   "codemirror_mode": {
    "name": "ipython",
    "version": 3
   },
   "file_extension": ".py",
   "mimetype": "text/x-python",
   "name": "python",
   "nbconvert_exporter": "python",
   "pygments_lexer": "ipython3",
   "version": "3.6.10"
  }
 },
 "nbformat": 4,
 "nbformat_minor": 1
}
