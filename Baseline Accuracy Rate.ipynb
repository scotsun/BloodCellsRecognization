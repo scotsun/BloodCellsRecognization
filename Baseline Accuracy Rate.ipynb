{
 "cells": [
  {
   "cell_type": "code",
   "execution_count": 1,
   "metadata": {},
   "outputs": [],
   "source": [
    "import numpy as np\n",
    "import pandas as pd\n",
    "import seaborn as sns \n",
    "import csv\n",
    "import math\n",
    "import cv2\n",
    "from numpy.linalg import lstsq,solve\n",
    "import matplotlib.pyplot as plt\n",
    "from tensorflow.keras.preprocessing.image import ImageDataGenerator\n",
    "from Utilities import PlotImages\n",
    "from sklearn.linear_model import LogisticRegressionCV, RidgeCV\n",
    "from sklearn.preprocessing import LabelEncoder\n",
    "from tensorflow.keras.models import Sequential\n",
    "from tensorflow.keras.layers import Input, Dense, Flatten\n",
    "from tensorflow.keras.optimizers import Adam\n",
    "from tensorflow.keras.callbacks import Callback, ModelCheckpoint, EarlyStopping\n",
    "from time import time\n",
    "from tensorflow.keras.applications.vgg16 import VGG16\n",
    "from Utilities import *"
   ]
  },
  {
   "cell_type": "code",
   "execution_count": 2,
   "metadata": {},
   "outputs": [],
   "source": [
    "def LinearRegressor(w,X):\n",
    "    yh = np.matmul(X, w)\n",
    "    return yh\n",
    "\n",
    "def MSE(y, yh):\n",
    "    mse = ((y-yh)**2).mean()\n",
    "    return mse"
   ]
  },
  {
   "cell_type": "markdown",
   "metadata": {},
   "source": [
    "## 2"
   ]
  },
  {
   "cell_type": "markdown",
   "metadata": {},
   "source": [
    "# save images and labels into blood_cell_train and blood_cell_test"
   ]
  },
  {
   "cell_type": "code",
   "execution_count": 3,
   "metadata": {},
   "outputs": [],
   "source": [
    "# blood_cell_train"
   ]
  },
  {
   "cell_type": "code",
   "execution_count": 4,
   "metadata": {},
   "outputs": [],
   "source": [
    "directory = './Data/dataset2-master/images/TRAIN/'"
   ]
  },
  {
   "cell_type": "code",
   "execution_count": 5,
   "metadata": {},
   "outputs": [
    {
     "name": "stdout",
     "output_type": "stream",
     "text": [
      "Found 9957 images belonging to 4 classes.\n"
     ]
    }
   ],
   "source": [
    "generator = ImageDataGenerator(rescale = 1/255)\n",
    "image_generator = generator.flow_from_directory(directory,\n",
    "                                               target_size=(32,32),\n",
    "                                               batch_size =10000,\n",
    "                                               class_mode='sparse')"
   ]
  },
  {
   "cell_type": "code",
   "execution_count": 6,
   "metadata": {},
   "outputs": [],
   "source": [
    "images, labels = image_generator.next()"
   ]
  },
  {
   "cell_type": "code",
   "execution_count": 7,
   "metadata": {},
   "outputs": [
    {
     "data": {
      "text/plain": [
       "array([2, 0, 1, ..., 1, 1, 3])"
      ]
     },
     "execution_count": 7,
     "metadata": {},
     "output_type": "execute_result"
    }
   ],
   "source": [
    "labels = labels.astype('int')\n",
    "labels"
   ]
  },
  {
   "cell_type": "code",
   "execution_count": 8,
   "metadata": {},
   "outputs": [
    {
     "data": {
      "text/plain": [
       "['EOSINOPHIL', 'LYMPHOCYTE', 'MONOCYTE', 'NEUTROPHIL']"
      ]
     },
     "execution_count": 8,
     "metadata": {},
     "output_type": "execute_result"
    }
   ],
   "source": [
    "label_names = list(image_generator.class_indices)\n",
    "label_names"
   ]
  },
  {
   "cell_type": "code",
   "execution_count": 9,
   "metadata": {},
   "outputs": [],
   "source": [
    "np.savez('./Data/blood_cell_train', train_images = images, train_labels = labels, train_label_names= label_names)"
   ]
  },
  {
   "cell_type": "code",
   "execution_count": 10,
   "metadata": {},
   "outputs": [
    {
     "name": "stdout",
     "output_type": "stream",
     "text": [
      "Found 2487 images belonging to 4 classes.\n"
     ]
    }
   ],
   "source": [
    "# blood_cell_test\n",
    "directory = './Data/dataset2-master/images/TEST/'\n",
    "generator = ImageDataGenerator(rescale = 1/255)\n",
    "image_generator = generator.flow_from_directory(directory,\n",
    "                                               target_size=(32,32),\n",
    "                                               batch_size =10000,\n",
    "                                               class_mode='sparse')\n",
    "images, labels = image_generator.next()\n",
    "\n",
    "labels = labels.astype('int')\n",
    "\n",
    "label_names = list(image_generator.class_indices)\n",
    "np.savez('./Data/blood_cell_test', test_images = images, test_labels = labels, test_label_names= label_names)"
   ]
  },
  {
   "cell_type": "markdown",
   "metadata": {},
   "source": [
    "# Baseline"
   ]
  },
  {
   "cell_type": "markdown",
   "metadata": {},
   "source": [
    "## Linear Classifier"
   ]
  },
  {
   "cell_type": "code",
   "execution_count": 11,
   "metadata": {},
   "outputs": [],
   "source": [
    "WBC = np.load('./Data/blood_cell_train.npz')"
   ]
  },
  {
   "cell_type": "code",
   "execution_count": 12,
   "metadata": {},
   "outputs": [
    {
     "data": {
      "text/plain": [
       "['train_images', 'train_labels', 'train_label_names']"
      ]
     },
     "execution_count": 12,
     "metadata": {},
     "output_type": "execute_result"
    }
   ],
   "source": [
    "WBC.files"
   ]
  },
  {
   "cell_type": "code",
   "execution_count": 13,
   "metadata": {},
   "outputs": [
    {
     "data": {
      "text/plain": [
       "array([2, 0, 1, ..., 1, 1, 3])"
      ]
     },
     "execution_count": 13,
     "metadata": {},
     "output_type": "execute_result"
    }
   ],
   "source": [
    "labels = WBC['train_labels']\n",
    "labels"
   ]
  },
  {
   "cell_type": "code",
   "execution_count": 14,
   "metadata": {},
   "outputs": [
    {
     "data": {
      "text/plain": [
       "(9957, 32, 32, 3)"
      ]
     },
     "execution_count": 14,
     "metadata": {},
     "output_type": "execute_result"
    }
   ],
   "source": [
    "images = WBC['train_images']\n",
    "images.shape"
   ]
  },
  {
   "cell_type": "code",
   "execution_count": 15,
   "metadata": {},
   "outputs": [
    {
     "data": {
      "text/plain": [
       "<matplotlib.image.AxesImage at 0x21ec0e7f850>"
      ]
     },
     "execution_count": 15,
     "metadata": {},
     "output_type": "execute_result"
    },
    {
     "data": {
      "image/png": "[encoded data removed]",
      "text/plain": [
       "<Figure size 432x288 with 1 Axes>"
      ]
     },
     "metadata": {
      "needs_background": "light"
     },
     "output_type": "display_data"
    }
   ],
   "source": [
    "plt.imshow(images[1,:,:])"
   ]
  },
  {
   "cell_type": "code",
   "execution_count": 16,
   "metadata": {},
   "outputs": [
    {
     "data": {
      "text/plain": [
       "(9957, 3072)"
      ]
     },
     "execution_count": 16,
     "metadata": {},
     "output_type": "execute_result"
    }
   ],
   "source": [
    "X = images.reshape(9957,32*32*3)\n",
    "X.shape"
   ]
  },
  {
   "cell_type": "code",
   "execution_count": 17,
   "metadata": {},
   "outputs": [
    {
     "data": {
      "text/plain": [
       "array([2, 0, 1, ..., 1, 1, 3])"
      ]
     },
     "execution_count": 17,
     "metadata": {},
     "output_type": "execute_result"
    }
   ],
   "source": [
    "y = WBC['train_labels']\n",
    "y"
   ]
  },
  {
   "cell_type": "code",
   "execution_count": 18,
   "metadata": {},
   "outputs": [],
   "source": [
    "# one-hot-encoding\n",
    "Y = np.zeros((9957,10))\n",
    "for i in range(9957):\n",
    "    Y[i,y[i]] = 1"
   ]
  },
  {
   "cell_type": "code",
   "execution_count": 19,
   "metadata": {},
   "outputs": [
    {
     "name": "stdout",
     "output_type": "stream",
     "text": [
      "(3072, 10)\n"
     ]
    },
    {
     "data": {
      "text/plain": [
       "array([[-0.19986223, -0.03867375,  0.06577508, ...,  0.        ,\n",
       "         0.        ,  0.        ],\n",
       "       [ 0.05901311, -0.00350394, -0.04976801, ...,  0.        ,\n",
       "         0.        ,  0.        ],\n",
       "       [ 0.09619761,  0.07967955, -0.01314885, ...,  0.        ,\n",
       "         0.        ,  0.        ],\n",
       "       ...,\n",
       "       [ 0.34070127, -0.18110947,  0.06779543, ...,  0.        ,\n",
       "         0.        ,  0.        ],\n",
       "       [ 0.18316203,  0.28051252,  0.08144323, ...,  0.        ,\n",
       "         0.        ,  0.        ],\n",
       "       [-0.49462198, -0.15433471, -0.13844709, ...,  0.        ,\n",
       "         0.        ,  0.        ]])"
      ]
     },
     "execution_count": 19,
     "metadata": {},
     "output_type": "execute_result"
    }
   ],
   "source": [
    "w = lstsq(X,Y,rcond=None)[0]\n",
    "print(w.shape)\n",
    "w"
   ]
  },
  {
   "cell_type": "code",
   "execution_count": 20,
   "metadata": {},
   "outputs": [],
   "source": [
    "Yh = np.matmul(X,w)"
   ]
  },
  {
   "cell_type": "code",
   "execution_count": 21,
   "metadata": {},
   "outputs": [
    {
     "data": {
      "text/plain": [
       "array([2, 0, 1, ..., 1, 1, 3], dtype=int64)"
      ]
     },
     "execution_count": 21,
     "metadata": {},
     "output_type": "execute_result"
    }
   ],
   "source": [
    "yh = Yh.argmax(axis=1)\n",
    "yh"
   ]
  },
  {
   "cell_type": "code",
   "execution_count": 22,
   "metadata": {},
   "outputs": [
    {
     "data": {
      "text/plain": [
       "array([2, 0, 1, ..., 1, 1, 3], dtype=int64)"
      ]
     },
     "execution_count": 22,
     "metadata": {},
     "output_type": "execute_result"
    }
   ],
   "source": [
    "y = Y.argmax(axis=1)\n",
    "y"
   ]
  },
  {
   "cell_type": "code",
   "execution_count": 23,
   "metadata": {},
   "outputs": [
    {
     "data": {
      "text/plain": [
       "2443"
      ]
     },
     "execution_count": 23,
     "metadata": {},
     "output_type": "execute_result"
    }
   ],
   "source": [
    "diff = (y!=yh).sum()\n",
    "diff"
   ]
  },
  {
   "cell_type": "code",
   "execution_count": 24,
   "metadata": {},
   "outputs": [
    {
     "data": {
      "text/plain": [
       "9957"
      ]
     },
     "execution_count": 24,
     "metadata": {},
     "output_type": "execute_result"
    }
   ],
   "source": [
    "total = len(y)\n",
    "total"
   ]
  },
  {
   "cell_type": "code",
   "execution_count": 25,
   "metadata": {},
   "outputs": [
    {
     "data": {
      "text/plain": [
       "0.2453550266144421"
      ]
     },
     "execution_count": 25,
     "metadata": {},
     "output_type": "execute_result"
    }
   ],
   "source": [
    "diff/total"
   ]
  },
  {
   "cell_type": "code",
   "execution_count": 26,
   "metadata": {},
   "outputs": [
    {
     "data": {
      "text/plain": [
       "0.7490207893943959"
      ]
     },
     "execution_count": 26,
     "metadata": {},
     "output_type": "execute_result"
    }
   ],
   "source": [
    "1-Y.mean(axis=0).max()"
   ]
  },
  {
   "cell_type": "markdown",
   "metadata": {},
   "source": [
    "The error rate of Linear Classifier,0.245 is much lower than the baseline error rate, 0.749."
   ]
  },
  {
   "cell_type": "code",
   "execution_count": 27,
   "metadata": {},
   "outputs": [],
   "source": [
    "# wrong labels\n",
    "images1 = images[(y!=yh),:,:]\n",
    "labels1= labels[(y!=yh)]\n",
    "labels1_pred = yh[(y!=yh)]"
   ]
  },
  {
   "cell_type": "code",
   "execution_count": 28,
   "metadata": {},
   "outputs": [
    {
     "data": {
      "image/png": "[encoded data removed]",
      "text/plain": [
       "<Figure size 432x288 with 1 Axes>"
      ]
     },
     "metadata": {
      "needs_background": "light"
     },
     "output_type": "display_data"
    },
    {
     "name": "stdout",
     "output_type": "stream",
     "text": [
      "Actual label: NEUTROPHIL\n",
      "Predicted label: MONOCYTE\n"
     ]
    },
    {
     "data": {
      "image/png": "[encoded data removed]",
      "text/plain": [
       "<Figure size 432x288 with 1 Axes>"
      ]
     },
     "metadata": {
      "needs_background": "light"
     },
     "output_type": "display_data"
    },
    {
     "name": "stdout",
     "output_type": "stream",
     "text": [
      "Actual label: NEUTROPHIL\n",
      "Predicted label: LYMPHOCYTE\n"
     ]
    },
    {
     "data": {
      "image/png": "[encoded data removed]",
      "text/plain": [
       "<Figure size 432x288 with 1 Axes>"
      ]
     },
     "metadata": {
      "needs_background": "light"
     },
     "output_type": "display_data"
    },
    {
     "name": "stdout",
     "output_type": "stream",
     "text": [
      "Actual label: NEUTROPHIL\n",
      "Predicted label: MONOCYTE\n"
     ]
    }
   ],
   "source": [
    "for i in range(3):\n",
    "    plt.imshow(images1[i,:,:],cmap='Greys_r')\n",
    "    plt.show()\n",
    "    print('Actual label:',label_names[labels1[i]])\n",
    "    print('Predicted label:',label_names[labels1_pred[i]])"
   ]
  },
  {
   "cell_type": "markdown",
   "metadata": {},
   "source": [
    "# Logistic Regression"
   ]
  },
  {
   "cell_type": "code",
   "execution_count": 29,
   "metadata": {},
   "outputs": [
    {
     "name": "stdout",
     "output_type": "stream",
     "text": [
      "images train shape (9957, 32, 32, 3)\n",
      "labels train shape (9957,)\n",
      " images test shape (2487, 32, 32, 3)\n",
      " labels test shape (2487,)\n"
     ]
    }
   ],
   "source": [
    "# load data\n",
    "RBC_train = np.load('./Data/blood_cell_train.npz')\n",
    "RBC_test = np.load('./Data/blood_cell_test.npz')\n",
    "\n",
    "# load images\n",
    "images_train = RBC_train['train_images']\n",
    "labels_train = RBC_train['train_labels']\n",
    "label_names = RBC_train['train_label_names']\n",
    "\n",
    "images_test = RBC_test['test_images']\n",
    "labels_test = RBC_test['test_labels']\n",
    "label_names = RBC_test['test_label_names'] # same label names\n",
    "\n",
    "\n",
    "# print shapes\n",
    "print('images train shape',images_train.shape)\n",
    "print('labels train shape',labels_train.shape)\n",
    "print(' images test shape',images_test.shape)\n",
    "print(' labels test shape',labels_test.shape)"
   ]
  },
  {
   "cell_type": "code",
   "execution_count": 30,
   "metadata": {},
   "outputs": [
    {
     "name": "stdout",
     "output_type": "stream",
     "text": [
      "feature tensor shape: (9957, 1, 1, 512)\n"
     ]
    }
   ],
   "source": [
    "# feature extraction\n",
    "vgg16 = VGG16(weights = 'imagenet', include_top=False)\n",
    "features_train = vgg16.predict(images_train)\n",
    "features_test = vgg16.predict(images_test)\n",
    "print('feature tensor shape:', features_train.shape)"
   ]
  },
  {
   "cell_type": "code",
   "execution_count": 31,
   "metadata": {},
   "outputs": [],
   "source": [
    "# reshape the images and features\n",
    "px = 32\n",
    "m_train = images_train.shape[0]\n",
    "m_test = images_test.shape[0]"
   ]
  },
  {
   "cell_type": "code",
   "execution_count": 32,
   "metadata": {},
   "outputs": [],
   "source": [
    "# reshape images and features\n",
    "X0_train = images_train.reshape(m_train,px*px*3)\n",
    "X0_test = images_test.reshape(m_test,px*px*3)\n",
    "\n",
    "# reshape features\n",
    "X1_train = features_train.reshape(m_train,1*1*512)\n",
    "X1_test = features_test.reshape(m_test,1*1*512)\n",
    "\n",
    "y_train = labels_train\n",
    "y_test = labels_test"
   ]
  },
  {
   "cell_type": "code",
   "execution_count": 33,
   "metadata": {},
   "outputs": [],
   "source": [
    "# shuffle the training data\n",
    "perm = np.random.permutation(m_train)\n",
    "X0_train = X0_train[perm,:]\n",
    "X1_train = X1_train[perm,:]\n",
    "y_train = labels_train[perm]"
   ]
  },
  {
   "cell_type": "markdown",
   "metadata": {},
   "source": [
    "### training"
   ]
  },
  {
   "cell_type": "code",
   "execution_count": 40,
   "metadata": {},
   "outputs": [],
   "source": [
    "m = images_train.shape[0]\n",
    "X0 = X0_train[:m]\n",
    "X1 = X1_train[:m]\n",
    "y= y_train[0:m]"
   ]
  },
  {
   "cell_type": "code",
   "execution_count": 41,
   "metadata": {},
   "outputs": [],
   "source": [
    "# instantiate logistic regressor\n",
    "alpha = 10**np.linspace(-5,5,11)\n",
    "C = 1/alpha"
   ]
  },
  {
   "cell_type": "code",
   "execution_count": 42,
   "metadata": {},
   "outputs": [],
   "source": [
    "lgr = LogisticRegressionCV(Cs = C, multi_class = 'multinomial', cv = 3, n_jobs=-1, max_iter = 1000)"
   ]
  },
  {
   "cell_type": "code",
   "execution_count": 43,
   "metadata": {},
   "outputs": [
    {
     "name": "stderr",
     "output_type": "stream",
     "text": [
      "C:\\Users\\linj2\\anaconda3\\lib\\site-packages\\sklearn\\linear_model\\_logistic.py:762: ConvergenceWarning: lbfgs failed to converge (status=1):\n",
      "STOP: TOTAL NO. of ITERATIONS REACHED LIMIT.\n",
      "\n",
      "Increase the number of iterations (max_iter) or scale the data as shown in:\n",
      "    https://scikit-learn.org/stable/modules/preprocessing.html\n",
      "Please also refer to the documentation for alternative solver options:\n",
      "    https://scikit-learn.org/stable/modules/linear_model.html#logistic-regression\n",
      "  n_iter_i = _check_optimize_result(\n"
     ]
    },
    {
     "name": "stdout",
     "output_type": "stream",
     "text": [
      "\n",
      "Training using Image Pixels:\n",
      "  trainning error rate 0.361\n",
      "      test error rate 0.598\n",
      "optimal alpha [10. 10. 10. 10.]\n",
      "   elapsed time 10.0 (min)\n"
     ]
    }
   ],
   "source": [
    "# train using image pixels (baseline)\n",
    "time_start = time()\n",
    "lgr.fit(X0,y)\n",
    "time_stop = time()\n",
    "time_elapsed = time_stop - time_start\n",
    "yh = lgr.predict(X0)\n",
    "yh_test = lgr.predict(X0_test)\n",
    "print()\n",
    "print('Training using Image Pixels:')\n",
    "print('  trainning error rate',ErrorRate(y,yh).round(3))\n",
    "print('      test error rate',ErrorRate(y_test,yh_test).round(3))\n",
    "print('optimal alpha',1/lgr.C_)\n",
    "print('   elapsed time',round(time_elapsed/60, 1), '(min)')"
   ]
  },
  {
   "cell_type": "code",
   "execution_count": 44,
   "metadata": {},
   "outputs": [
    {
     "name": "stdout",
     "output_type": "stream",
     "text": [
      "Training using VGG16 features:\n",
      "  trainning error rate 0.31\n",
      "      test error rate 0.465\n",
      "optimal alpha [1. 1. 1. 1.]\n",
      "   elapsed time 1.7 (min)\n"
     ]
    }
   ],
   "source": [
    "# train using VGG16 features\n",
    "time_start = time()\n",
    "lgr.fit(X1,y)\n",
    "time_stop = time()\n",
    "time_elapsed = time_stop - time_start\n",
    "yh = lgr.predict(X1)\n",
    "yh_test = lgr.predict(X1_test)\n",
    "print('Training using VGG16 features:')\n",
    "print('  trainning error rate',ErrorRate(y,yh).round(3))\n",
    "print('      test error rate',ErrorRate(y_test,yh_test).round(3))\n",
    "print('optimal alpha',1/lgr.C_)\n",
    "print('   elapsed time',round(time_elapsed/60, 1), '(min)')"
   ]
  },
  {
   "cell_type": "code",
   "execution_count": null,
   "metadata": {},
   "outputs": [],
   "source": []
  }
 ],
 "metadata": {
  "kernelspec": {
   "display_name": "Python 3",
   "language": "python",
   "name": "python3"
  },
  "language_info": {
   "codemirror_mode": {
    "name": "ipython",
    "version": 3
   },
   "file_extension": ".py",
   "mimetype": "text/x-python",
   "name": "python",
   "nbconvert_exporter": "python",
   "pygments_lexer": "ipython3",
   "version": "3.8.3"
  }
 },
 "nbformat": 4,
 "nbformat_minor": 4
}
